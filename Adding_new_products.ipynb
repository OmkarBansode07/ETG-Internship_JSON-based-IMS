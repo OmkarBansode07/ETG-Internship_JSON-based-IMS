{
 "cells": [
  {
   "cell_type": "markdown",
   "id": "371cd698",
   "metadata": {},
   "source": [
    "# Creating JSON File "
   ]
  },
  {
   "cell_type": "code",
   "execution_count": 71,
   "id": "6b254ccd",
   "metadata": {},
   "outputs": [],
   "source": [
    "record ={'1001': {'name': 'Choco Cake', 'pr': 10, 'qn': 34},\n",
    "         '1002': {'name': 'Milk Cake', 'pr': 80, 'qn': 100},\n",
    "         '1003': {'name': 'Drink', 'pr': 35, 'qn': 100},\n",
    "         '1004': {'name': 'Candy', 'pr': 5, 'qn': 150},\n",
    "         '1005': {'name': 'Pen', 'pr': 10, 'qn': 100},\n",
    "         '1006': {'name': 'Rice', 'pr': 120, 'qn': 50},\n",
    "         '1007': {'name': 'Sugar', 'pr': 75, 'qn': 120},\n",
    "         '1008': {'name': 'Tea', 'pr': 15, 'qn': 55}}"
   ]
  },
  {
   "cell_type": "code",
   "execution_count": 13,
   "id": "94f07f4b",
   "metadata": {},
   "outputs": [],
   "source": [
    "import json"
   ]
  },
  {
   "cell_type": "code",
   "execution_count": 72,
   "id": "f878770e",
   "metadata": {},
   "outputs": [],
   "source": [
    "js =json.dumps(record)"
   ]
  },
  {
   "cell_type": "code",
   "execution_count": 73,
   "id": "3e47e2d0",
   "metadata": {},
   "outputs": [
    {
     "data": {
      "text/plain": [
       "'{\"1001\": {\"name\": \"Choco Cake\", \"pr\": 10, \"qn\": 34}, \"1002\": {\"name\": \"Milk Cake\", \"pr\": 80, \"qn\": 100}, \"1003\": {\"name\": \"Drink\", \"pr\": 35, \"qn\": 100}, \"1004\": {\"name\": \"Candy\", \"pr\": 5, \"qn\": 150}, \"1005\": {\"name\": \"Pen\", \"pr\": 10, \"qn\": 100}, \"1006\": {\"name\": \"Rice\", \"pr\": 120, \"qn\": 50}, \"1007\": {\"name\": \"Sugar\", \"pr\": 75, \"qn\": 120}, \"1008\": {\"name\": \"Tea\", \"pr\": 15, \"qn\": 55}}'"
      ]
     },
     "execution_count": 73,
     "metadata": {},
     "output_type": "execute_result"
    }
   ],
   "source": [
    "js"
   ]
  },
  {
   "cell_type": "code",
   "execution_count": 16,
   "id": "e2183840",
   "metadata": {},
   "outputs": [
    {
     "data": {
      "text/plain": [
       "str"
      ]
     },
     "execution_count": 16,
     "metadata": {},
     "output_type": "execute_result"
    }
   ],
   "source": [
    "type(js)"
   ]
  },
  {
   "cell_type": "code",
   "execution_count": 17,
   "id": "a3a86501",
   "metadata": {},
   "outputs": [
    {
     "data": {
      "text/plain": [
       "dict"
      ]
     },
     "execution_count": 17,
     "metadata": {},
     "output_type": "execute_result"
    }
   ],
   "source": [
    "type(record)"
   ]
  },
  {
   "cell_type": "code",
   "execution_count": 76,
   "id": "9e635f90",
   "metadata": {},
   "outputs": [],
   "source": [
    "fd =open(\"record.json\",'w')\n",
    "\n",
    "txt =fd.write(js)\n",
    "\n",
    "fd.close()"
   ]
  },
  {
   "cell_type": "code",
   "execution_count": 69,
   "id": "7148e260",
   "metadata": {},
   "outputs": [],
   "source": [
    "fd =open(\"record.json\",'r')\n",
    "\n",
    "txt =fd.read()\n",
    "\n",
    "fd.close()"
   ]
  },
  {
   "cell_type": "code",
   "execution_count": 78,
   "id": "1a989ab5",
   "metadata": {},
   "outputs": [
    {
     "data": {
      "text/plain": [
       "385"
      ]
     },
     "execution_count": 78,
     "metadata": {},
     "output_type": "execute_result"
    }
   ],
   "source": [
    "txt"
   ]
  },
  {
   "cell_type": "code",
   "execution_count": 74,
   "id": "9fc908bc",
   "metadata": {},
   "outputs": [
    {
     "data": {
      "text/plain": [
       "{'1001': {'name': 'Choco Cake', 'pr': 10, 'qn': 34},\n",
       " '1002': {'name': 'Milk Cake', 'pr': 80, 'qn': 100},\n",
       " '1003': {'name': 'Drink', 'pr': 35, 'qn': 100},\n",
       " '1004': {'name': 'Candy', 'pr': 5, 'qn': 150},\n",
       " '1005': {'name': 'Pen', 'pr': 10, 'qn': 100},\n",
       " '1006': {'name': 'Rice', 'pr': 120, 'qn': 50},\n",
       " '1007': {'name': 'Sugar', 'pr': 75, 'qn': 120},\n",
       " '1008': {'name': 'Tea', 'pr': 15, 'qn': 55}}"
      ]
     },
     "execution_count": 74,
     "metadata": {},
     "output_type": "execute_result"
    }
   ],
   "source": [
    "record"
   ]
  },
  {
   "cell_type": "markdown",
   "id": "7be92511",
   "metadata": {},
   "source": [
    "# Read Data from JSON "
   ]
  },
  {
   "cell_type": "code",
   "execution_count": 79,
   "id": "746bbf39",
   "metadata": {},
   "outputs": [],
   "source": [
    "fd = open(\"record.json\",'r')\n",
    "r = fd.read()\n",
    "fd.close()\n"
   ]
  },
  {
   "cell_type": "code",
   "execution_count": 141,
   "id": "ceda5ee2",
   "metadata": {},
   "outputs": [
    {
     "data": {
      "text/plain": [
       "{'1001': {'name': 'Choco Cake', 'pr': 10, 'qn': 34},\n",
       " '1002': {'name': 'Milk Cake', 'pr': 80, 'qn': 100},\n",
       " '1003': {'name': 'Drink', 'pr': 35, 'qn': 100},\n",
       " '1004': {'name': 'Candy', 'pr': 5, 'qn': 150},\n",
       " '1005': {'name': 'Pen', 'pr': 10, 'qn': 100},\n",
       " '1006': {'name': 'Rice', 'pr': 120, 'qn': 50},\n",
       " '1007': {'name': 'Sugar', 'pr': 75, 'qn': 120},\n",
       " '1008': {'name': 'Tea', 'pr': 15, 'qn': 55},\n",
       " '1009': {'name': 'Wheat', 'pr': 45, 'qn': 100},\n",
       " '1010': {'name': 'Barely', 'pr': 25, 'qn': 85},\n",
       " '1011': {'name': 'Toothpaste', 'pr': 30, 'qn': 65},\n",
       " '1012': {'name': 'Soyabean', 'pr': 55, 'qn': 40},\n",
       " '1013': {'name': 'Face Cream ', 'pr': 35, 'qn': 50},\n",
       " '1014': {'name': 'Shampoo', 'pr': 5, 'qn': 0},\n",
       " '1015': {'name': 'Chana Dal', 'pr': 80, 'qn': 120},\n",
       " '1016': {'name': 'Powder', 'pr': 15, 'qn': 90},\n",
       " '1017': {'name': 'Salt ', 'pr': 40, 'qn': 150},\n",
       " '1018': {'name': 'Bread', 'pr': 25, 'qn': 60},\n",
       " '1019': {'name': 'Chilli Powder', 'pr': 10, 'qn': 100},\n",
       " '1020': {'name': 'Pavbhaji Masala', 'pr': 7, 'qn': 45},\n",
       " '1021': {'name': 'Ghee', 'pr': 120, 'qn': 20},\n",
       " '1022': {'name': 'jaggery ', 'pr': 70, 'qn': 20},\n",
       " '1023': {'name': 'Notebook', 'pr': 25, 'qn': 0},\n",
       " '1024': {'name': 'Maggi ', 'pr': 24, 'qn': 45},\n",
       " '1025': {'name': 'Edible Oil', 'pr': 65, 'qn': 20},\n",
       " '1026': {'name': 'Sauce', 'pr': 17, 'qn': 50},\n",
       " '1027': {'name': 'Pasta', 'pr': 15, 'qn': 30},\n",
       " '1028': {'name': 'Soups', 'pr': 10, 'qn': 40},\n",
       " '1029': {'name': 'Cereal', 'pr': 5, 'qn': 150},\n",
       " '1030': {'name': 'Egg', 'pr': 7, 'qn': 0}}"
      ]
     },
     "execution_count": 141,
     "metadata": {},
     "output_type": "execute_result"
    }
   ],
   "source": [
    "record"
   ]
  },
  {
   "cell_type": "markdown",
   "id": "c4b6b8bc",
   "metadata": {},
   "source": [
    "# Add new item to inventory "
   ]
  },
  {
   "cell_type": "code",
   "execution_count": 139,
   "id": "1d0ad144",
   "metadata": {},
   "outputs": [
    {
     "name": "stdout",
     "output_type": "stream",
     "text": [
      "Enter product id :1030\n",
      "Enter name of product :Egg\n",
      "Enter price of product :7\n",
      "Enter quantity required :0\n"
     ]
    }
   ],
   "source": [
    "prod_id = str(input(\"Enter product id :\"))\n",
    "name = str(input(\"Enter name of product :\"))\n",
    "pr = int(input(\"Enter price of product :\"))\n",
    "qn = int(input(\"Enter quantity required :\"))\n",
    "\n",
    "record[prod_id] = {'name': name, 'pr': pr, 'qn': qn}\n",
    "js = json.dumps(record)\n",
    "fd = open(\"record.json\",'w')\n",
    "fd.write(js)\n",
    "fd.close()"
   ]
  },
  {
   "cell_type": "code",
   "execution_count": 142,
   "id": "5249e1c8",
   "metadata": {},
   "outputs": [
    {
     "data": {
      "text/plain": [
       "{'1001': {'name': 'Choco Cake', 'pr': 10, 'qn': 34},\n",
       " '1002': {'name': 'Milk Cake', 'pr': 80, 'qn': 100},\n",
       " '1003': {'name': 'Drink', 'pr': 35, 'qn': 100},\n",
       " '1004': {'name': 'Candy', 'pr': 5, 'qn': 150},\n",
       " '1005': {'name': 'Pen', 'pr': 10, 'qn': 100},\n",
       " '1006': {'name': 'Rice', 'pr': 120, 'qn': 50},\n",
       " '1007': {'name': 'Sugar', 'pr': 75, 'qn': 120},\n",
       " '1008': {'name': 'Tea', 'pr': 15, 'qn': 55},\n",
       " '1009': {'name': 'Wheat', 'pr': 45, 'qn': 100},\n",
       " '1010': {'name': 'Barely', 'pr': 25, 'qn': 85},\n",
       " '1011': {'name': 'Toothpaste', 'pr': 30, 'qn': 65},\n",
       " '1012': {'name': 'Soyabean', 'pr': 55, 'qn': 40},\n",
       " '1013': {'name': 'Face Cream ', 'pr': 35, 'qn': 50},\n",
       " '1014': {'name': 'Shampoo', 'pr': 5, 'qn': 0},\n",
       " '1015': {'name': 'Chana Dal', 'pr': 80, 'qn': 120},\n",
       " '1016': {'name': 'Powder', 'pr': 15, 'qn': 90},\n",
       " '1017': {'name': 'Salt ', 'pr': 40, 'qn': 150},\n",
       " '1018': {'name': 'Bread', 'pr': 25, 'qn': 60},\n",
       " '1019': {'name': 'Chilli Powder', 'pr': 10, 'qn': 100},\n",
       " '1020': {'name': 'Pavbhaji Masala', 'pr': 7, 'qn': 45},\n",
       " '1021': {'name': 'Ghee', 'pr': 120, 'qn': 20},\n",
       " '1022': {'name': 'jaggery ', 'pr': 70, 'qn': 20},\n",
       " '1023': {'name': 'Notebook', 'pr': 25, 'qn': 0},\n",
       " '1024': {'name': 'Maggi ', 'pr': 24, 'qn': 45},\n",
       " '1025': {'name': 'Edible Oil', 'pr': 65, 'qn': 20},\n",
       " '1026': {'name': 'Sauce', 'pr': 17, 'qn': 50},\n",
       " '1027': {'name': 'Pasta', 'pr': 15, 'qn': 30},\n",
       " '1028': {'name': 'Soups', 'pr': 10, 'qn': 40},\n",
       " '1029': {'name': 'Cereal', 'pr': 5, 'qn': 150},\n",
       " '1030': {'name': 'Egg', 'pr': 7, 'qn': 0}}"
      ]
     },
     "execution_count": 142,
     "metadata": {},
     "output_type": "execute_result"
    }
   ],
   "source": [
    "record"
   ]
  },
  {
   "cell_type": "code",
   "execution_count": 143,
   "id": "652b537f",
   "metadata": {},
   "outputs": [
    {
     "data": {
      "text/plain": [
       "dict_values([{'name': 'Choco Cake', 'pr': 10, 'qn': 34}, {'name': 'Milk Cake', 'pr': 80, 'qn': 100}, {'name': 'Drink', 'pr': 35, 'qn': 100}, {'name': 'Candy', 'pr': 5, 'qn': 150}, {'name': 'Pen', 'pr': 10, 'qn': 100}, {'name': 'Rice', 'pr': 120, 'qn': 50}, {'name': 'Sugar', 'pr': 75, 'qn': 120}, {'name': 'Tea', 'pr': 15, 'qn': 55}, {'name': 'Wheat', 'pr': 45, 'qn': 100}, {'name': 'Barely', 'pr': 25, 'qn': 85}, {'name': 'Toothpaste', 'pr': 30, 'qn': 65}, {'name': 'Soyabean', 'pr': 55, 'qn': 40}, {'name': 'Face Cream ', 'pr': 35, 'qn': 50}, {'name': 'Shampoo', 'pr': 5, 'qn': 0}, {'name': 'Chana Dal', 'pr': 80, 'qn': 120}, {'name': 'Powder', 'pr': 15, 'qn': 90}, {'name': 'Salt ', 'pr': 40, 'qn': 150}, {'name': 'Bread', 'pr': 25, 'qn': 60}, {'name': 'Chilli Powder', 'pr': 10, 'qn': 100}, {'name': 'Pavbhaji Masala', 'pr': 7, 'qn': 45}, {'name': 'Ghee', 'pr': 120, 'qn': 20}, {'name': 'jaggery ', 'pr': 70, 'qn': 20}, {'name': 'Notebook', 'pr': 25, 'qn': 0}, {'name': 'Maggi ', 'pr': 24, 'qn': 45}, {'name': 'Edible Oil', 'pr': 65, 'qn': 20}, {'name': 'Sauce', 'pr': 17, 'qn': 50}, {'name': 'Pasta', 'pr': 15, 'qn': 30}, {'name': 'Soups', 'pr': 10, 'qn': 40}, {'name': 'Cereal', 'pr': 5, 'qn': 150}, {'name': 'Egg', 'pr': 7, 'qn': 0}])"
      ]
     },
     "execution_count": 143,
     "metadata": {},
     "output_type": "execute_result"
    }
   ],
   "source": [
    "record.values()"
   ]
  },
  {
   "cell_type": "code",
   "execution_count": 144,
   "id": "df1a296f",
   "metadata": {},
   "outputs": [
    {
     "data": {
      "text/plain": [
       "dict_keys(['1001', '1002', '1003', '1004', '1005', '1006', '1007', '1008', '1009', '1010', '1011', '1012', '1013', '1014', '1015', '1016', '1017', '1018', '1019', '1020', '1021', '1022', '1023', '1024', '1025', '1026', '1027', '1028', '1029', '1030'])"
      ]
     },
     "execution_count": 144,
     "metadata": {},
     "output_type": "execute_result"
    }
   ],
   "source": [
    "record.keys()"
   ]
  },
  {
   "cell_type": "code",
   "execution_count": 145,
   "id": "53019f52",
   "metadata": {},
   "outputs": [],
   "source": [
    "key =record.keys()"
   ]
  },
  {
   "cell_type": "code",
   "execution_count": 147,
   "id": "38c9a9d8",
   "metadata": {},
   "outputs": [
    {
     "name": "stdout",
     "output_type": "stream",
     "text": [
      "Choco Cake\n",
      "\n",
      "Milk Cake\n",
      "\n",
      "Drink\n",
      "\n",
      "Candy\n",
      "\n",
      "Pen\n",
      "\n",
      "Rice\n",
      "\n",
      "Sugar\n",
      "\n",
      "Tea\n",
      "\n",
      "Wheat\n",
      "\n",
      "Barely\n",
      "\n",
      "Toothpaste\n",
      "\n",
      "Soyabean\n",
      "\n",
      "Face Cream \n",
      "\n",
      "Shampoo\n",
      "Product temporarily unavailable\n",
      "\n",
      "Chana Dal\n",
      "\n",
      "Powder\n",
      "\n",
      "Salt \n",
      "\n",
      "Bread\n",
      "\n",
      "Chilli Powder\n",
      "\n",
      "Pavbhaji Masala\n",
      "\n",
      "Ghee\n",
      "\n",
      "jaggery \n",
      "\n",
      "Notebook\n",
      "Product temporarily unavailable\n",
      "\n",
      "Maggi \n",
      "\n",
      "Edible Oil\n",
      "\n",
      "Sauce\n",
      "\n",
      "Pasta\n",
      "\n",
      "Soups\n",
      "\n",
      "Cereal\n",
      "\n",
      "Egg\n",
      "Product temporarily unavailable\n",
      "\n"
     ]
    }
   ],
   "source": [
    "for i in key :\n",
    "    if(record[i]['qn']>0):\n",
    "        print(record[i]['name'])\n",
    "        print()\n",
    "    else:\n",
    "        print(record[i]['name'])\n",
    "        print(\"Product temporarily unavailable\")\n",
    "        print()"
   ]
  }
 ],
 "metadata": {
  "kernelspec": {
   "display_name": "Python 3 (ipykernel)",
   "language": "python",
   "name": "python3"
  },
  "language_info": {
   "codemirror_mode": {
    "name": "ipython",
    "version": 3
   },
   "file_extension": ".py",
   "mimetype": "text/x-python",
   "name": "python",
   "nbconvert_exporter": "python",
   "pygments_lexer": "ipython3",
   "version": "3.9.6"
  }
 },
 "nbformat": 4,
 "nbformat_minor": 5
}
