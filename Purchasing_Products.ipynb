{
 "cells": [
  {
   "cell_type": "markdown",
   "id": "b6a5d251",
   "metadata": {},
   "source": [
    "# Read Inventory from json file"
   ]
  },
  {
   "cell_type": "code",
   "execution_count": 55,
   "id": "5755cb88",
   "metadata": {},
   "outputs": [],
   "source": [
    "import json\n",
    "import time"
   ]
  },
  {
   "cell_type": "code",
   "execution_count": 56,
   "id": "a3a87c7e",
   "metadata": {},
   "outputs": [],
   "source": [
    "# Reading inventory and converting into dictionary\n",
    "fd=open(\"record.json\",'r')\n",
    "r =fd.read()\n",
    "fd.close()\n",
    "\n",
    "dct=json.loads(r)\n"
   ]
  },
  {
   "cell_type": "code",
   "execution_count": 57,
   "id": "18fd8249",
   "metadata": {},
   "outputs": [
    {
     "data": {
      "text/plain": [
       "{'1001': {'name': 'Choco Cake', 'pr': 10, 'qn': 34},\n",
       " '1002': {'name': 'Milk Cake', 'pr': 80, 'qn': 100},\n",
       " '1003': {'name': 'Drink', 'pr': 35, 'qn': 100},\n",
       " '1004': {'name': 'Candy', 'pr': 5, 'qn': 150},\n",
       " '1005': {'name': 'Pen', 'pr': 10, 'qn': 100},\n",
       " '1006': {'name': 'Rice', 'pr': 120, 'qn': 50},\n",
       " '1007': {'name': 'Sugar', 'pr': 75, 'qn': 120},\n",
       " '1008': {'name': 'Tea', 'pr': 15, 'qn': 55},\n",
       " '1009': {'name': 'Wheat', 'pr': 45, 'qn': 100},\n",
       " '1010': {'name': 'Barely', 'pr': 25, 'qn': 85},\n",
       " '1011': {'name': 'Toothpaste', 'pr': 30, 'qn': 65},\n",
       " '1012': {'name': 'Soyabean', 'pr': 55, 'qn': 40},\n",
       " '1013': {'name': 'Face Cream ', 'pr': 35, 'qn': 50},\n",
       " '1014': {'name': 'Shampoo', 'pr': 5, 'qn': 0},\n",
       " '1015': {'name': 'Chana Dal', 'pr': 80, 'qn': 120},\n",
       " '1016': {'name': 'Powder', 'pr': 15, 'qn': 90},\n",
       " '1017': {'name': 'Salt ', 'pr': 40, 'qn': 150},\n",
       " '1018': {'name': 'Bread', 'pr': 25, 'qn': 60},\n",
       " '1019': {'name': 'Chilli Powder', 'pr': 10, 'qn': 100},\n",
       " '1020': {'name': 'Pavbhaji Masala', 'pr': 7, 'qn': 45},\n",
       " '1021': {'name': 'Ghee', 'pr': 120, 'qn': 20},\n",
       " '1022': {'name': 'jaggery ', 'pr': 70, 'qn': 20},\n",
       " '1023': {'name': 'Notebook', 'pr': 25, 'qn': 0},\n",
       " '1024': {'name': 'Maggi ', 'pr': 24, 'qn': 45},\n",
       " '1025': {'name': 'Edible Oil', 'pr': 65, 'qn': 20},\n",
       " '1026': {'name': 'Sauce', 'pr': 17, 'qn': 50},\n",
       " '1027': {'name': 'Pasta', 'pr': 15, 'qn': 30},\n",
       " '1028': {'name': 'Soups', 'pr': 10, 'qn': 40},\n",
       " '1029': {'name': 'Cereal', 'pr': 5, 'qn': 150},\n",
       " '1030': {'name': 'Egg', 'pr': 7, 'qn': 0}}"
      ]
     },
     "execution_count": 57,
     "metadata": {},
     "output_type": "execute_result"
    }
   ],
   "source": [
    "dct"
   ]
  },
  {
   "cell_type": "code",
   "execution_count": 58,
   "id": "b801bb59",
   "metadata": {},
   "outputs": [],
   "source": [
    "sales ={}\n",
    "\n",
    "sales =json.dumps(sales)\n",
    "\n",
    "fd =open(\"sales.json\",'w')\n",
    "fd.write(sales)\n",
    "fd.close()\n",
    "\n",
    "# Loading sales and Converting it into dictionary \n",
    "fd =open(\"sales.json\",'r')\n",
    "sl =fd.read()\n",
    "fd.close()\n",
    "\n",
    "sales =json.loads(sl)"
   ]
  },
  {
   "cell_type": "markdown",
   "id": "c0ebc1d0",
   "metadata": {},
   "source": [
    "# Purchasing products and update the inventory"
   ]
  },
  {
   "cell_type": "code",
   "execution_count": 71,
   "id": "a4def921",
   "metadata": {},
   "outputs": [
    {
     "name": "stdout",
     "output_type": "stream",
     "text": [
      "*****************************************\n",
      "\n",
      "Enter the product_id :1019\n",
      "Enter the quantity :25\n",
      "Name of Product : Chilli Powder\n",
      "Price of Product : 10\n",
      "Quantity Required : 25\n",
      "------------------------------------------------\n",
      "Billing Amount : 250\n",
      "------------------------------------------------\n",
      "*********************************************\n",
      "Data Updated in Sales File!\n",
      "Data Updated in Inventory File!\n"
     ]
    }
   ],
   "source": [
    "# displaying menus\n",
    "# print(\"*************************************\")\n",
    "# for i in dct.keys():\n",
    "#     print(i, dct[i])\n",
    "print(\"*****************************************\\n\")\n",
    "\n",
    "# Taking Input from User to Enter what he/she wants to purchase\n",
    "ui_prod =str(input(\"Enter the product_id :\"))\n",
    "ui_quant =int(input(\"Enter the quantity :\"))\n",
    "\n",
    "if(ui_prod in dct.keys()):\n",
    "    if(dct[ui_prod]['qn'] >=ui_quant):\n",
    "        print(\"Name of Product :\",dct[ui_prod]['name'])\n",
    "        print(\"Price of Product :\",dct[ui_prod]['pr'])\n",
    "        print(\"Quantity Required :\",ui_quant)\n",
    "        print(\"------------------------------------------------\")\n",
    "        print(\"Billing Amount :\",dct[ui_prod]['pr'] * ui_quant)\n",
    "        print(\"------------------------------------------------\")\n",
    "    \n",
    "        dct[ui_prod]['qn'] =dct[ui_prod]['qn'] - ui_quant\n",
    "    \n",
    "        sales[str(len(sales)+1)] ={'prod_id' : ui_prod,\n",
    "                                  'time_pr' : time.ctime(),\n",
    "                                  'bill' :dct[ui_prod]['pr'] * ui_quant,\n",
    "                                  'qn' :ui_quant,\n",
    "                                  'pr' : dct[ui_prod]['pr'],\n",
    "                                  'pr_name' :dct[ui_prod]['name']}\n",
    "        \n",
    "    else:\n",
    "        print(\"Sorry ,We are not having that much of quantity.\")\n",
    "        print(\"We're only having\",dct[ui_prod]['qn'],\"quantity\")\n",
    "        print(\"Would you like to purchase or not(Y/N)\")\n",
    "        ch =str(input(\"Y/N\"))\n",
    "        \n",
    "        if(ch ==\"Y\"):\n",
    "            print(\"Name of product :\",dct[ui_prod]['name'])\n",
    "            print(\"Price of quantity : \",dct[ui_prod]['pr'])\n",
    "            print(\"Quantity required :\",dct[ui_prod]['qn'])\n",
    "            print(\"---------------------------------------------\")\n",
    "            print(\"Billing Amount : \",dct[ui_prod]['pr'] * dct[ui_prod]['qn'])\n",
    "            \n",
    "            dct[ui_prod]['qn'] ==0\n",
    "            \n",
    "            sales[str(len(sales)+1)] ={'prod_id' : ui_prod,\n",
    "                                  'time_pr' : time.ctime(),\n",
    "                                  'bill' :dct[ui_prod]['pr'] * dct[ui_prod]['qn'],\n",
    "                                  'qn' : dct[ui_prod]['qn'],\n",
    "                                  'pr' : dct[ui_prod]['pr'],\n",
    "                                  'pr_name' :dct[ui_prod]['name']}\n",
    "        else:\n",
    "            print(\"Thank you !\")\n",
    "\n",
    "else:\n",
    "    print(\"----------------------------------\")\n",
    "    print(\"Product doesn't exist!\")\n",
    "    print(\"Please Enter a valid product id\")\n",
    "    print(\"------------------------------------\")\n",
    "\n",
    "# Updating sales files\n",
    "sl =json.dumps(sales) \n",
    "fd =open(\"sales.json\",'w')\n",
    "fd.write(sl)\n",
    "fd.close()\n",
    "\n",
    "print(\"*********************************************\")\n",
    "print(\"Data Updated in Sales File!\")\n",
    "\n",
    "# Updating the inventory file\n",
    "js =json.dumps(dct)\n",
    "fd =open(\"record.json\",'w')\n",
    "fd.write(js)\n",
    "fd.close()\n",
    "\n",
    "print(\"Data Updated in Inventory File!\")"
   ]
  },
  {
   "cell_type": "code",
   "execution_count": 72,
   "id": "b8fa2cb6",
   "metadata": {},
   "outputs": [
    {
     "data": {
      "text/plain": [
       "{'1001': {'name': 'Choco Cake', 'pr': 10, 'qn': 24},\n",
       " '1002': {'name': 'Milk Cake', 'pr': 80, 'qn': 100},\n",
       " '1003': {'name': 'Drink', 'pr': 35, 'qn': 80},\n",
       " '1004': {'name': 'Candy', 'pr': 5, 'qn': 150},\n",
       " '1005': {'name': 'Pen', 'pr': 10, 'qn': 100},\n",
       " '1006': {'name': 'Rice', 'pr': 120, 'qn': 50},\n",
       " '1007': {'name': 'Sugar', 'pr': 75, 'qn': 120},\n",
       " '1008': {'name': 'Tea', 'pr': 15, 'qn': 55},\n",
       " '1009': {'name': 'Wheat', 'pr': 45, 'qn': 100},\n",
       " '1010': {'name': 'Barely', 'pr': 25, 'qn': 85},\n",
       " '1011': {'name': 'Toothpaste', 'pr': 30, 'qn': 65},\n",
       " '1012': {'name': 'Soyabean', 'pr': 55, 'qn': 40},\n",
       " '1013': {'name': 'Face Cream ', 'pr': 35, 'qn': 50},\n",
       " '1014': {'name': 'Shampoo', 'pr': 5, 'qn': 0},\n",
       " '1015': {'name': 'Chana Dal', 'pr': 80, 'qn': 120},\n",
       " '1016': {'name': 'Powder', 'pr': 15, 'qn': 90},\n",
       " '1017': {'name': 'Salt ', 'pr': 40, 'qn': 150},\n",
       " '1018': {'name': 'Bread', 'pr': 25, 'qn': 60},\n",
       " '1019': {'name': 'Chilli Powder', 'pr': 10, 'qn': 75},\n",
       " '1020': {'name': 'Pavbhaji Masala', 'pr': 7, 'qn': 45},\n",
       " '1021': {'name': 'Ghee', 'pr': 120, 'qn': 20},\n",
       " '1022': {'name': 'jaggery ', 'pr': 70, 'qn': 20},\n",
       " '1023': {'name': 'Notebook', 'pr': 25, 'qn': 0},\n",
       " '1024': {'name': 'Maggi ', 'pr': 24, 'qn': 45},\n",
       " '1025': {'name': 'Edible Oil', 'pr': 65, 'qn': 20},\n",
       " '1026': {'name': 'Sauce', 'pr': 17, 'qn': 35},\n",
       " '1027': {'name': 'Pasta', 'pr': 15, 'qn': 30},\n",
       " '1028': {'name': 'Soups', 'pr': 10, 'qn': 40},\n",
       " '1029': {'name': 'Cereal', 'pr': 5, 'qn': 150},\n",
       " '1030': {'name': 'Egg', 'pr': 7, 'qn': 0}}"
      ]
     },
     "execution_count": 72,
     "metadata": {},
     "output_type": "execute_result"
    }
   ],
   "source": [
    "dct"
   ]
  },
  {
   "cell_type": "code",
   "execution_count": 73,
   "id": "4436c616",
   "metadata": {},
   "outputs": [
    {
     "data": {
      "text/plain": [
       "{'1': {'prod_id': '1001',\n",
       "  'time_pr': 'Thu Sep  9 23:43:09 2021',\n",
       "  'bill': 100,\n",
       "  'qn': 10,\n",
       "  'pr': 10,\n",
       "  'pr_name': 'Choco Cake'},\n",
       " '2': {'prod_id': '1003',\n",
       "  'time_pr': 'Thu Sep  9 23:46:22 2021',\n",
       "  'bill': 700,\n",
       "  'qn': 20,\n",
       "  'pr': 35,\n",
       "  'pr_name': 'Drink'},\n",
       " '3': {'prod_id': '1014',\n",
       "  'time_pr': 'Thu Sep  9 23:47:41 2021',\n",
       "  'bill': 0,\n",
       "  'qn': 0,\n",
       "  'pr': 5,\n",
       "  'pr_name': 'Shampoo'},\n",
       " '4': {'prod_id': '1026',\n",
       "  'time_pr': 'Thu Sep  9 23:48:19 2021',\n",
       "  'bill': 255,\n",
       "  'qn': 15,\n",
       "  'pr': 17,\n",
       "  'pr_name': 'Sauce'},\n",
       " '5': {'prod_id': '1019',\n",
       "  'time_pr': 'Thu Sep  9 23:48:55 2021',\n",
       "  'bill': 250,\n",
       "  'qn': 25,\n",
       "  'pr': 10,\n",
       "  'pr_name': 'Chilli Powder'}}"
      ]
     },
     "execution_count": 73,
     "metadata": {},
     "output_type": "execute_result"
    }
   ],
   "source": [
    "sales"
   ]
  },
  {
   "cell_type": "code",
   "execution_count": 82,
   "id": "124fb739",
   "metadata": {},
   "outputs": [
    {
     "name": "stdout",
     "output_type": "stream",
     "text": [
      "Enter the product_id : 1002\n",
      "Name : Milk Cake\n",
      "Quantity remained : 100\n",
      "Name : Milk Cake\n",
      "Quantity remained : 100\n",
      "Name : Milk Cake\n",
      "Quantity remained : 100\n"
     ]
    }
   ],
   "source": [
    "ui_prod= str(input(\"Enter the product_id : \"))\n",
    "\n",
    "for i in dct[ui_prod]:\n",
    "# if(ui_prod == dct.keys()):\n",
    "    print(\"Name :\",dct[ui_prod]['name'])\n",
    "    print(\"Quantity remained :\",dct[ui_prod]['qn'])\n",
    "    "
   ]
  }
 ],
 "metadata": {
  "kernelspec": {
   "display_name": "Python 3 (ipykernel)",
   "language": "python",
   "name": "python3"
  },
  "language_info": {
   "codemirror_mode": {
    "name": "ipython",
    "version": 3
   },
   "file_extension": ".py",
   "mimetype": "text/x-python",
   "name": "python",
   "nbconvert_exporter": "python",
   "pygments_lexer": "ipython3",
   "version": "3.9.6"
  }
 },
 "nbformat": 4,
 "nbformat_minor": 5
}
